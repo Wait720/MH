{
  "nbformat": 4,
  "nbformat_minor": 0,
  "metadata": {
    "colab": {
      "provenance": [],
      "toc_visible": true,
      "authorship_tag": "ABX9TyPBkzfgmlUQQ1stisa5T3Ol",
      "include_colab_link": true
    },
    "kernelspec": {
      "name": "python3",
      "display_name": "Python 3"
    },
    "language_info": {
      "name": "python"
    }
  },
  "cells": [
    {
      "cell_type": "markdown",
      "metadata": {
        "id": "view-in-github",
        "colab_type": "text"
      },
      "source": [
        "<a href=\"https://colab.research.google.com/github/Wait720/MH/blob/main/%D0%A8%D0%B5%D1%80%D1%81%D1%82%D1%8E%D0%BA_22.ipynb\" target=\"_parent\"><img src=\"https://colab.research.google.com/assets/colab-badge.svg\" alt=\"Open In Colab\"/></a>"
      ]
    },
    {
      "cell_type": "markdown",
      "source": [
        "1. Створіть матрицю 3*3, заповнити її цілими випадковими числами від 1 до 5"
      ],
      "metadata": {
        "id": "L68_x7_DVktR"
      }
    },
    {
      "cell_type": "code",
      "source": [
        "import numpy as np\n",
        "\n",
        "matrix = np.random.randint(1, 6, size=(3, 3))\n",
        "matrix"
      ],
      "metadata": {
        "colab": {
          "base_uri": "https://localhost:8080/"
        },
        "id": "z3KHw1P2V6zI",
        "outputId": "462bdd5a-3855-406c-fc78-968188a0ff2c"
      },
      "execution_count": 6,
      "outputs": [
        {
          "output_type": "execute_result",
          "data": {
            "text/plain": [
              "array([[2, 4, 1],\n",
              "       [5, 1, 3],\n",
              "       [5, 3, 3]])"
            ]
          },
          "metadata": {},
          "execution_count": 6
        }
      ]
    },
    {
      "cell_type": "markdown",
      "source": [
        "2. Обчислити визначник матриці"
      ],
      "metadata": {
        "id": "hZ9zd-H8Wgv_"
      }
    },
    {
      "cell_type": "code",
      "source": [
        "det = np.linalg.det(matrix)\n",
        "det"
      ],
      "metadata": {
        "colab": {
          "base_uri": "https://localhost:8080/"
        },
        "id": "PLfoG364WmbP",
        "outputId": "8727d35a-e215-45f8-a070-63019e9d9f98"
      },
      "execution_count": 7,
      "outputs": [
        {
          "output_type": "execute_result",
          "data": {
            "text/plain": [
              "np.float64(-2.0)"
            ]
          },
          "metadata": {},
          "execution_count": 7
        }
      ]
    },
    {
      "cell_type": "markdown",
      "source": [
        "3. Знайти добуток всіх елементів матриці"
      ],
      "metadata": {
        "id": "upSiZ8OjW9Qa"
      }
    },
    {
      "cell_type": "code",
      "source": [
        "product = np.prod(matrix)\n",
        "product"
      ],
      "metadata": {
        "colab": {
          "base_uri": "https://localhost:8080/"
        },
        "id": "VGM0UVxWXBg5",
        "outputId": "4c1c3692-eca0-49e5-d4cf-3344407107b0"
      },
      "execution_count": 8,
      "outputs": [
        {
          "output_type": "execute_result",
          "data": {
            "text/plain": [
              "np.int64(5400)"
            ]
          },
          "metadata": {},
          "execution_count": 8
        }
      ]
    },
    {
      "cell_type": "code",
      "source": [
        "prod_1 = np.prod(matrix[0])\n",
        "prod_2 = np.prod(matrix[1])\n",
        "prod_3 = np.prod(matrix[2])\n",
        "prod_1*prod_2*prod_3"
      ],
      "metadata": {
        "colab": {
          "base_uri": "https://localhost:8080/"
        },
        "id": "vZgD1a4QYAg5",
        "outputId": "fd2c4377-619f-430c-99b9-880f6a93caca"
      },
      "execution_count": 10,
      "outputs": [
        {
          "output_type": "execute_result",
          "data": {
            "text/plain": [
              "np.int64(5400)"
            ]
          },
          "metadata": {},
          "execution_count": 10
        }
      ]
    },
    {
      "cell_type": "markdown",
      "source": [
        "4. Знайти суму всіх елементів матриці"
      ],
      "metadata": {
        "id": "zJ-LJGqBYNoT"
      }
    },
    {
      "cell_type": "code",
      "source": [
        "sum = np.sum(matrix)\n",
        "sum"
      ],
      "metadata": {
        "colab": {
          "base_uri": "https://localhost:8080/"
        },
        "id": "jsAPcwjyYP0_",
        "outputId": "893b6f9e-a83e-4f49-eae2-78cd70699e5b"
      },
      "execution_count": 11,
      "outputs": [
        {
          "output_type": "execute_result",
          "data": {
            "text/plain": [
              "np.int64(27)"
            ]
          },
          "metadata": {},
          "execution_count": 11
        }
      ]
    },
    {
      "cell_type": "markdown",
      "source": [
        "5. Обчислити найбільший, найменший елементи"
      ],
      "metadata": {
        "id": "HLAwfAfLYbbY"
      }
    },
    {
      "cell_type": "code",
      "source": [
        "max_element = np.max(matrix)\n",
        "print (\"Найбільший елемент матриці це\", max_element)\n",
        "min_element = np.min(matrix)\n",
        "print (\"Найменший елемент матриці це\", min_element)"
      ],
      "metadata": {
        "colab": {
          "base_uri": "https://localhost:8080/"
        },
        "id": "7UpLmp-0YfA2",
        "outputId": "ea5bc122-fa92-4ad4-965c-b2c8beeb84b9"
      },
      "execution_count": 13,
      "outputs": [
        {
          "output_type": "stream",
          "name": "stdout",
          "text": [
            "Найбільший елемент матриці це 5\n",
            "Найменший елемент матриці це 1\n"
          ]
        }
      ]
    },
    {
      "cell_type": "markdown",
      "source": [
        "6. Знайти середнє значення елементів матриці"
      ],
      "metadata": {
        "id": "vofBQUn_Yrs4"
      }
    },
    {
      "cell_type": "code",
      "source": [
        "mean = np.mean (matrix)\n",
        "print (\"Середнє значення елементів матриці:\", mean)"
      ],
      "metadata": {
        "colab": {
          "base_uri": "https://localhost:8080/"
        },
        "id": "4aOSJc-Eb473",
        "outputId": "befad883-f45f-4b9a-f806-e6bf59595985"
      },
      "execution_count": 14,
      "outputs": [
        {
          "output_type": "stream",
          "name": "stdout",
          "text": [
            "Середнє значення елементів матриці: 3.0\n"
          ]
        }
      ]
    },
    {
      "cell_type": "markdown",
      "source": [
        "7. Знайти матрицю, що складена з квадратних коренів."
      ],
      "metadata": {
        "id": "MNrPKPPwb7sN"
      }
    },
    {
      "cell_type": "code",
      "source": [
        "sqrt_matrix = np.sqrt(matrix)\n",
        "print (\"Матриця квадратних коренів:\")\n",
        "print(sqrt_matrix)"
      ],
      "metadata": {
        "colab": {
          "base_uri": "https://localhost:8080/"
        },
        "id": "VUJxLSZfcAKS",
        "outputId": "7dc96c87-ee9a-42e6-e85c-dd8bdb4fd492"
      },
      "execution_count": 15,
      "outputs": [
        {
          "output_type": "stream",
          "name": "stdout",
          "text": [
            "Матриця квадратних коренів:\n",
            "[[1.41421356 2.         1.        ]\n",
            " [2.23606798 1.         1.73205081]\n",
            " [2.23606798 1.73205081 1.73205081]]\n"
          ]
        }
      ]
    },
    {
      "cell_type": "markdown",
      "source": [
        "8. Обчислити суму елементів кожного рядка. Відповідь записати як вектор-стовпчик"
      ],
      "metadata": {
        "id": "szpbrkWacV4J"
      }
    },
    {
      "cell_type": "code",
      "source": [
        "row_sums = np.sum(matrix, axis=1).reshape(-1, 1)\n",
        "print (\"Сума елементів кожного рядка:\")\n",
        "print(row_sums)"
      ],
      "metadata": {
        "colab": {
          "base_uri": "https://localhost:8080/"
        },
        "id": "ortmn6tEcWvi",
        "outputId": "15cbdd6b-335d-4c76-f546-470d65ee1a6b"
      },
      "execution_count": 16,
      "outputs": [
        {
          "output_type": "stream",
          "name": "stdout",
          "text": [
            "Сума елементів кожного рядка:\n",
            "[[ 7]\n",
            " [ 9]\n",
            " [11]]\n"
          ]
        }
      ]
    },
    {
      "cell_type": "markdown",
      "source": [
        "9. Створити вектор, що містить 25 елементів. Заповнити числами від 0 до 9. Відсортувати числа за спаданням."
      ],
      "metadata": {
        "id": "nVTLsB9ZcaPP"
      }
    },
    {
      "cell_type": "code",
      "source": [
        "vector = np.random.randint(0, 10, size=29)\n",
        "print (\"Початковий вектор:\")\n",
        "print(vector)\n",
        "sorted_vector = np.sort(vector)[::-1]\n",
        "print (\"Вектор після сортування за спаданням:\")\n",
        "print (sorted_vector)"
      ],
      "metadata": {
        "colab": {
          "base_uri": "https://localhost:8080/"
        },
        "id": "lvxRIiThcbzd",
        "outputId": "9de86250-7a15-4b58-b1e1-106e3cf4e31f"
      },
      "execution_count": 20,
      "outputs": [
        {
          "output_type": "stream",
          "name": "stdout",
          "text": [
            "Початковий вектор:\n",
            "[0 2 2 8 4 3 6 1 1 2 1 3 8 0 2 7 4 1 6 9 8 1 1 6 7 3 0 6 5]\n",
            "Вектор після сортування за спаданням:\n",
            "[9 8 8 8 7 7 6 6 6 6 5 4 4 3 3 3 2 2 2 2 1 1 1 1 1 1 0 0 0]\n"
          ]
        }
      ]
    },
    {
      "cell_type": "markdown",
      "source": [
        "10. Знайти моду, медіану, середнє, максимальне, мінімальне значення"
      ],
      "metadata": {
        "id": "x52F9u3rc7XW"
      }
    },
    {
      "cell_type": "code",
      "source": [
        "from scipy import stats\n",
        "mode = stats.mode (vector)\n",
        "median = np.median (vector)\n",
        "mean = np.mean (vector)\n",
        "max_value = np.max(vector)\n",
        "min_value = np.min(vector)\n",
        "print (\"Мода:\", mode )\n",
        "print (\"Медіана:\", median)\n",
        "print (\"Середнє:\", mean)\n",
        "print (\"Максимальне значення:\", max_value)\n",
        "print (\"Мінімальне значення:\", min_value)"
      ],
      "metadata": {
        "colab": {
          "base_uri": "https://localhost:8080/"
        },
        "id": "E5tU0e8Sc-Ly",
        "outputId": "18dce978-17ad-465b-a48d-05b713633201"
      },
      "execution_count": 21,
      "outputs": [
        {
          "output_type": "stream",
          "name": "stdout",
          "text": [
            "Мода: ModeResult(mode=np.int64(1), count=np.int64(6))\n",
            "Медіана: 3.0\n",
            "Середнє: 3.689655172413793\n",
            "Максимальне значення: 9\n",
            "Мінімальне значення: 0\n"
          ]
        }
      ]
    },
    {
      "cell_type": "markdown",
      "source": [
        "11. Створити дві матриці 4*4, заповнені числами від 1 до 10. Обчислити суму, різницю, поелементний добуток, частку."
      ],
      "metadata": {
        "id": "TPagEsijdoB9"
      }
    },
    {
      "cell_type": "code",
      "source": [
        "matrix1 = np.random.randint(1, 11, size=(4, 4))\n",
        "matrix2 = np.random.randint(1, 11, size=(4, 4))\n",
        "print (\"Матриця 1:\")\n",
        "print(matrix1)\n",
        "print(\"Матриця 2:\")\n",
        "print(matrix2)"
      ],
      "metadata": {
        "colab": {
          "base_uri": "https://localhost:8080/"
        },
        "id": "aq9EoVD-eR3a",
        "outputId": "99f358c9-4be7-43c9-b5fc-1543f40b601e"
      },
      "execution_count": 43,
      "outputs": [
        {
          "output_type": "stream",
          "name": "stdout",
          "text": [
            "Матриця 1:\n",
            "[[ 8  4  8  3]\n",
            " [ 5  5  8  6]\n",
            " [ 5  3 10  4]\n",
            " [ 9  3  9  2]]\n",
            "Матриця 2:\n",
            "[[1 1 9 5]\n",
            " [2 7 6 8]\n",
            " [2 2 5 6]\n",
            " [8 8 6 7]]\n"
          ]
        }
      ]
    },
    {
      "cell_type": "code",
      "source": [
        "matrix_sum = matrix1 + matrix2\n",
        "matrix_diff = matrix1 - matrix2\n",
        "matrix_product = matrix1 * matrix2\n",
        "matrix_division = np.divide(matrix1, matrix2, where=(matrix2!=0))\n",
        "print (\"Сума матриць:\")\n",
        "print(matrix_sum)\n",
        "print (\"Різниця матриць:\")\n",
        "print(matrix_diff)\n",
        "print (\"Поелементний добуток матриць:\")\n",
        "print (matrix_product)"
      ],
      "metadata": {
        "colab": {
          "base_uri": "https://localhost:8080/"
        },
        "id": "1hHnDGlBenAF",
        "outputId": "98b2107f-72dd-4a53-8620-a25603c22913"
      },
      "execution_count": 46,
      "outputs": [
        {
          "output_type": "stream",
          "name": "stdout",
          "text": [
            "Сума матриць:\n",
            "[[ 9  5 17  8]\n",
            " [ 7 12 14 14]\n",
            " [ 7  5 15 10]\n",
            " [17 11 15  9]]\n",
            "Різниця матриць:\n",
            "[[ 7  3 -1 -2]\n",
            " [ 3 -2  2 -2]\n",
            " [ 3  1  5 -2]\n",
            " [ 1 -5  3 -5]]\n",
            "Поелементний добуток матриць:\n",
            "[[ 8  4 72 15]\n",
            " [10 35 48 48]\n",
            " [10  6 50 24]\n",
            " [72 24 54 14]]\n"
          ]
        }
      ]
    },
    {
      "cell_type": "markdown",
      "source": [
        "*Висновок :* Лабораторна робота ознайомила з основами машинного навчання та практичним застосуванням елементів лінійної алгебри. Виконані завдання сприяли розумінню ключових концепцій та їх реалізації для вирішення практичних задач.\n",
        "\n"
      ],
      "metadata": {
        "id": "lYFNmc9MfL6F"
      }
    }
  ]
}